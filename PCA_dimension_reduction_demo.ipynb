{
 "cells": [
  {
   "cell_type": "code",
   "execution_count": 51,
   "metadata": {
    "collapsed": false
   },
   "outputs": [
    {
     "name": "stdout",
     "output_type": "stream",
     "text": [
      "The autoreload extension is already loaded. To reload it, use:\n",
      "  %reload_ext autoreload\n"
     ]
    }
   ],
   "source": [
    "%load_ext autoreload\n",
    "%autoreload 2\n",
    "%matplotlib inline"
   ]
  },
  {
   "cell_type": "code",
   "execution_count": 52,
   "metadata": {
    "collapsed": true
   },
   "outputs": [],
   "source": [
    "import yodiipy\n",
    "\n",
    "import numpy\n",
    "import sklearn\n",
    "import scipy\n",
    "import pylab as plt\n",
    "import random\n"
   ]
  },
  {
   "cell_type": "markdown",
   "metadata": {},
   "source": [
    "### Some PCA and dimensino reduction worksheet"
   ]
  },
  {
   "cell_type": "code",
   "execution_count": 53,
   "metadata": {
    "collapsed": false
   },
   "outputs": [
    {
     "data": {
      "text/plain": [
       "[<matplotlib.lines.Line2D at 0x7f3f5a3e6550>]"
      ]
     },
     "execution_count": 53,
     "metadata": {},
     "output_type": "execute_result"
    },
    {
     "data": {
      "image/png": "[encoded data removed]",
      "text/plain": [
       "<matplotlib.figure.Figure at 0x7f3f5a4190b8>"
      ]
     },
     "metadata": {},
     "output_type": "display_data"
    }
   ],
   "source": [
    "# make some data:\n",
    "R1 = random.Random()\n",
    "R2 = random.Random()\n",
    "#\n",
    "N_points = 1000\n",
    "b_slope =.5\n",
    "dx_dy = 5.\n",
    "#\n",
    "datas = []\n",
    "for j in range(N_points):\n",
    "    x = dx_dy*R1.random()\n",
    "    y = R2.random() + b_slope*x\n",
    "    #\n",
    "    datas += [[x,y]]\n",
    "#\n",
    "datas = numpy.array(datas)\n",
    "XY = datas\n",
    "plt.figure()\n",
    "ax1=plt.gca()\n",
    "plt.plot(*zip(*datas), ls='', marker='.')"
   ]
  },
  {
   "cell_type": "markdown",
   "metadata": {},
   "source": [
    "### PCA:\n",
    "- First, get the covariance matrix. this is:\n",
    "  - X_m = X - <X>_{col}\n",
    "  - cov = X_m^TX_m\n",
    "  - or: cov = numpy.cov(X)\n",
    "- Then, get eigen-values $\\lambda_j$ and eigen-vectors $\\vec{e}_j$ of the covariance matrix.\n",
    "  - you can do this manually (see any linear algebra text or Wikipedia)\n",
    "  - ... or use numpy: numpy.linalbe.eig(X).\n",
    "  - there are variations on .eig(), including Hermitian, .eigh(), etc. that make various assumptions about the symmetry and values in the matrix.\n",
    "  "
   ]
  },
  {
   "cell_type": "code",
   "execution_count": 54,
   "metadata": {
    "collapsed": false
   },
   "outputs": [
    {
     "name": "stdout",
     "output_type": "stream",
     "text": [
      "[ 0.06306746  2.59437114] 6.41376999742\n",
      "[[ 0.45924822 -0.88830799]\n",
      " [-0.88830799 -0.45924822]]\n"
     ]
    }
   ],
   "source": [
    "# now, pca it:\n",
    "#\n",
    "cov_xy = numpy.cov(datas.T)\n",
    "lambdas, eigvs = numpy.linalg.eigh(cov_xy)\n",
    "\n",
    "print(lambdas, numpy.sqrt(lambdas[1]/lambdas[0]))\n",
    "print(eigvs)"
   ]
  },
  {
   "cell_type": "markdown",
   "metadata": {},
   "source": [
    "### More getting pca:\n",
    "- \"pca\" is the covariance eigen-vectors sorted by corresponding eigen-value.\n",
    "- the largest eigenvalue indicates the axis with the largest variability (presumably the largest 'signal').\n",
    "- The $m \\times m$ matrix made up of the eigen-vectors as columns is a rotation matrix to (??) the PCA frame\n",
    "- Sort the eigen-values/vectors by eigen-value;\n",
    "- keep the largest N pairs; this is an $m x n$ matrix, no longer square, but note that the columns have the same number of elements (rows) as the data points in the original data set.\n",
    "- If so desired, the eigen-values can be used to re-scale the data along the principla axes, but this is not very commonly done.\n",
    "\n",
    "- now, \"dot\" the data onto the reduced basis (compute the projection of these data onto the new, reduced basis). If we keep the entire basis, this is effectively a rotation into the PCA frame.\n",
    "- Then, rotate the reduced data back to the original frame using the original PCA matrix."
   ]
  },
  {
   "cell_type": "code",
   "execution_count": 69,
   "metadata": {
    "collapsed": false
   },
   "outputs": [
    {
     "name": "stdout",
     "output_type": "stream",
     "text": [
      "pcas:  [(0.063067460121899399, array([ 0.45924822, -0.88830799])), (2.5943711411598391, array([-0.88830799, -0.45924822]))]\n",
      "** [[ 0.45924822 -0.88830799]\n",
      " [-0.88830799 -0.45924822]]\n",
      "A_pca:   [[ 0.45924822 -0.88830799]\n",
      " [-0.88830799 -0.45924822]]\n",
      "A_pca_r: [[-0.88830799 -0.45924822]]\n"
     ]
    }
   ],
   "source": [
    "#print(pca_R)\n",
    "pcas = sorted(zip(lambdas, eigvs), key=lambda rw: rw[0])\n",
    "print('pcas: ', pcas)\n",
    "\n",
    "e_vals = [rw[0] for rw in pcas]\n",
    "A_pca = numpy.array([rw[1] for rw in pcas])\n",
    "print('**', A_pca)\n",
    "#\n",
    "# reduced basis\n",
    "A_pca_r = A_pca[-1:]\n",
    "#\n",
    "print('A_pca:   {}'.format(A_pca))\n",
    "print('A_pca_r: {}'.format(A_pca_r))\n",
    "#\n",
    "# data transformed onto the reduced basis:\n",
    "XY_prime = numpy.dot(XY, A_pca_r.T)\n",
    "#print('**', numpy.dot(XY, A_pca_r.T))\n",
    "#\n",
    "# now, rotate reduced data back to original frame.\n",
    "XY_prime2 = numpy.dot(XY_prime, A_pca_r)\n",
    "#"
   ]
  },
  {
   "cell_type": "code",
   "execution_count": 68,
   "metadata": {
    "collapsed": false
   },
   "outputs": [
    {
     "data": {
      "text/plain": [
       "[<matplotlib.lines.Line2D at 0x7f3f59cd0470>]"
      ]
     },
     "execution_count": 68,
     "metadata": {},
     "output_type": "execute_result"
    },
    {
     "data": {
      "image/png": "[encoded data removed]",
      "text/plain": [
       "<matplotlib.figure.Figure at 0x7f3f59cdc5c0>"
      ]
     },
     "metadata": {},
     "output_type": "display_data"
    }
   ],
   "source": [
    "plt.figure()\n",
    "plt.plot(*zip(*datas), ls='', marker='.', color='b')\n",
    "plt.plot(*zip(*XY_prime2), marker='.', ls='', color='r')\n",
    "#print('dot: {}'.format(numpy.dot(A_pca, XY.T)))"
   ]
  },
  {
   "cell_type": "code",
   "execution_count": 25,
   "metadata": {
    "collapsed": false
   },
   "outputs": [
    {
     "name": "stdout",
     "output_type": "stream",
     "text": [
      "** [(0.066735317239152658, array([ 0.45366744, -0.89117106])), (2.7479173120560039, array([-0.89117106, -0.45366744]))]\n",
      "[-1.63456041 -1.56065658 -1.72679179 -3.78231714 -3.30705088 -4.85121194\n",
      " -0.82349091 -3.00754532 -1.84726976 -2.84695204]\n"
     ]
    }
   ],
   "source": [
    "XY_prime = numpy.dot(datas, A_reduced)\n",
    "print(XY_prime[0:10])"
   ]
  },
  {
   "cell_type": "code",
   "execution_count": 56,
   "metadata": {
    "collapsed": false
   },
   "outputs": [
    {
     "name": "stdout",
     "output_type": "stream",
     "text": [
      "[[ 4.46279506  3.22050543]\n",
      " [ 3.41910593  1.71141795]\n",
      " [ 3.65120205  2.33721744]\n",
      " [ 4.5325672   2.47399542]\n",
      " [ 4.49101719  3.00451307]]\n"
     ]
    }
   ],
   "source": [
    "print(XY[0:5])"
   ]
  },
  {
   "cell_type": "code",
   "execution_count": null,
   "metadata": {
    "collapsed": true
   },
   "outputs": [],
   "source": []
  }
 ],
 "metadata": {
  "kernelspec": {
   "display_name": "Python 3",
   "language": "python",
   "name": "python3"
  },
  "language_info": {
   "codemirror_mode": {
    "name": "ipython",
    "version": 3
   },
   "file_extension": ".py",
   "mimetype": "text/x-python",
   "name": "python",
   "nbconvert_exporter": "python",
   "pygments_lexer": "ipython3",
   "version": "3.5.1"
  }
 },
 "nbformat": 4,
 "nbformat_minor": 0
}
